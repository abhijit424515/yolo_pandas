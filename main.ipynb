{
  "cells": [
    {
      "cell_type": "markdown",
      "source": [
        "# [Reference](https://www.maskaravivek.com/post/yolov1/)"
      ],
      "metadata": {
        "id": "yFnlkOCdJHBU"
      }
    },
    {
      "cell_type": "code",
      "execution_count": 1,
      "metadata": {
        "id": "802BbcW6G8s6"
      },
      "outputs": [],
      "source": [
        "import tensorflow as tf\n",
        "import matplotlib.pyplot as plt    # for plotting the images\n",
        "import os\n",
        "\n",
        "%matplotlib inline"
      ]
    },
    {
      "cell_type": "markdown",
      "source": [
        "# Obtaining Data"
      ],
      "metadata": {
        "id": "Dz0xP39rLZNi"
      }
    },
    {
      "cell_type": "code",
      "source": [
        "!wget http://host.robots.ox.ac.uk/pascal/VOC/voc2007/VOCtrainval_06-Nov-2007.tar\n",
        "!tar xvf VOCtrainval_06-Nov-2007.tar\n",
        "!rm VOCtrainval_06-Nov-2007.tar\n",
        "\n",
        "!wget http://host.robots.ox.ac.uk/pascal/VOC/voc2007/VOCtest_06-Nov-2007.tar\n",
        "!tar xvf VOCtest_06-Nov-2007.tar\n",
        "!rm VOCtest_06-Nov-2007.tar"
      ],
      "metadata": {
        "id": "ufIBO_hdKl5i"
      },
      "execution_count": null,
      "outputs": []
    },
    {
      "cell_type": "code",
      "source": [
        "import argparse\n",
        "import xml.etree.ElementTree as ET\n",
        "import os\n",
        "\n",
        "parser = argparse.ArgumentParser(description='Build Annotations.')\n",
        "parser.add_argument('dir', default='..', help='Annotations.')\n",
        "\n",
        "sets = [('2007', 'train'), ('2007', 'val'), ('2007', 'test')]\n",
        "\n",
        "classes_num = {'aeroplane': 0, 'bicycle': 1, 'bird': 2, 'boat': 3, 'bottle': 4, 'bus': 5,\n",
        "               'car': 6, 'cat': 7, 'chair': 8, 'cow': 9, 'diningtable': 10, 'dog': 11,\n",
        "               'horse': 12, 'motorbike': 13, 'person': 14, 'pottedplant': 15, 'sheep': 16,\n",
        "               'sofa': 17, 'train': 18, 'tvmonitor': 19}"
      ],
      "metadata": {
        "id": "sidfdwu-PAkw"
      },
      "execution_count": null,
      "outputs": []
    },
    {
      "cell_type": "code",
      "source": [
        "def parse_annotation(img_id):\n",
        "  f = os.path.join(f'VOCdevkit/VOC2007/Annotations/{img_id}.xml')\n",
        "  root = ET.parse(f).getroot()\n",
        "\n",
        "  for obj in root.iter('object'):\n",
        "    classes = list(classes_num.keys())\n",
        "\n",
        "    difficult = obj.find('difficult').text\n",
        "    cls = obj.find('name').text\n",
        "\n",
        "    if cls not in classes or int(difficult) == 1:\n",
        "      continue\n",
        "    cls_id = classes[cls]\n",
        "\n",
        "    bndbox = obj.find('bndbox')\n",
        "    bounds = (int(bndbox.find('xmin').text),int(bndbox.find('ymin').text),int(bndbox.find('xmax').text),int(bndbox.find('ymax').text))"
      ],
      "metadata": {
        "id": "Tkj7Oc0qKupP"
      },
      "execution_count": null,
      "outputs": []
    }
  ],
  "metadata": {
    "language_info": {
      "name": "python"
    },
    "colab": {
      "provenance": []
    },
    "kernelspec": {
      "name": "python3",
      "display_name": "Python 3"
    }
  },
  "nbformat": 4,
  "nbformat_minor": 0
}